{
  "nbformat": 4,
  "nbformat_minor": 0,
  "metadata": {
    "colab": {
      "provenance": []
    },
    "kernelspec": {
      "name": "python3",
      "display_name": "Python 3"
    },
    "language_info": {
      "name": "python"
    }
  },
  "cells": [
    {
      "cell_type": "code",
      "execution_count": null,
      "metadata": {
        "id": "76cxgIa-rgqB"
      },
      "outputs": [],
      "source": [
        "import pandas as pd\n",
        "\n",
        "games_df = pd.read_csv('/content/drive/MyDrive/Estudos/Ciência de Dados/Colab/Games.csv')\n",
        "imdb_games_df = pd.read_csv('/content/drive/MyDrive/Estudos/Ciência de Dados/Colab/imdb-videogames.csv')\n",
        "vgsales_df = pd.read_csv('/content/drive/MyDrive/Estudos/Ciência de Dados/Colab/vgsales.csv')\n",
        "indie_games_df = pd.read_csv('/content/drive/MyDrive/Estudos/Ciência de Dados/Colab/indie-games-developers.csv')"
      ]
    },
    {
      "cell_type": "code",
      "source": [
        "# vgsales_df.columns\n",
        "imdb_games_df.columns\n",
        "# games_df.columns"
      ],
      "metadata": {
        "colab": {
          "base_uri": "https://localhost:8080/"
        },
        "id": "UXKTJ_MfwS1x",
        "outputId": "731947b9-73f1-48e8-9bdc-0af14aacdf1f"
      },
      "execution_count": null,
      "outputs": [
        {
          "output_type": "execute_result",
          "data": {
            "text/plain": [
              "Index(['Unnamed: 0', 'name', 'url', 'year', 'certificate', 'rating', 'votes',\n",
              "       'plot', 'Action', 'Adventure', 'Comedy', 'Crime', 'Family', 'Fantasy',\n",
              "       'Mystery', 'Sci-Fi', 'Thriller'],\n",
              "      dtype='object')"
            ]
          },
          "metadata": {},
          "execution_count": 4
        }
      ]
    },
    {
      "cell_type": "markdown",
      "source": [
        "games_df - colunas: REVIEW e Score; Coluna importante GameName"
      ],
      "metadata": {
        "id": "_4AErLPmwzU5"
      }
    },
    {
      "cell_type": "markdown",
      "source": [
        "imdb_games_df - Colunas: name, votes\n",
        "\n",
        "Tentar transformar as colunas de categorias em uma única coluna categoria"
      ],
      "metadata": {
        "id": "_8qunv9eyTJt"
      }
    },
    {
      "cell_type": "markdown",
      "source": [
        "vgsales_df - Colunas: Name, Platform, Genre, NA_Sales, EU_Sales, JP_Sales, Other_Sales, Global_Sales. Rank"
      ],
      "metadata": {
        "id": "-TUp4Z_uzhIJ"
      }
    },
    {
      "cell_type": "markdown",
      "source": [
        "indie_games_df - Colunas: Developer, Notable games, Notes"
      ],
      "metadata": {
        "id": "nfGtmJw4z3O5"
      }
    },
    {
      "cell_type": "code",
      "source": [
        "# Verificar dados faltantes em colunas processo afeta o dataframe original\n",
        "vgsales_df.isnull().sum()"
      ],
      "metadata": {
        "colab": {
          "base_uri": "https://localhost:8080/",
          "height": 429
        },
        "id": "YCxQFGwa2Wbe",
        "outputId": "b6419d63-27ab-43d0-9515-e3e878f6dbc1"
      },
      "execution_count": null,
      "outputs": [
        {
          "output_type": "execute_result",
          "data": {
            "text/plain": [
              "Rank              0\n",
              "Name              0\n",
              "Platform          0\n",
              "Year            271\n",
              "Genre             0\n",
              "Publisher        58\n",
              "NA_Sales          0\n",
              "EU_Sales          0\n",
              "JP_Sales          0\n",
              "Other_Sales       0\n",
              "Global_Sales      0\n",
              "dtype: int64"
            ],
            "text/html": [
              "<div>\n",
              "<style scoped>\n",
              "    .dataframe tbody tr th:only-of-type {\n",
              "        vertical-align: middle;\n",
              "    }\n",
              "\n",
              "    .dataframe tbody tr th {\n",
              "        vertical-align: top;\n",
              "    }\n",
              "\n",
              "    .dataframe thead th {\n",
              "        text-align: right;\n",
              "    }\n",
              "</style>\n",
              "<table border=\"1\" class=\"dataframe\">\n",
              "  <thead>\n",
              "    <tr style=\"text-align: right;\">\n",
              "      <th></th>\n",
              "      <th>0</th>\n",
              "    </tr>\n",
              "  </thead>\n",
              "  <tbody>\n",
              "    <tr>\n",
              "      <th>Rank</th>\n",
              "      <td>0</td>\n",
              "    </tr>\n",
              "    <tr>\n",
              "      <th>Name</th>\n",
              "      <td>0</td>\n",
              "    </tr>\n",
              "    <tr>\n",
              "      <th>Platform</th>\n",
              "      <td>0</td>\n",
              "    </tr>\n",
              "    <tr>\n",
              "      <th>Year</th>\n",
              "      <td>271</td>\n",
              "    </tr>\n",
              "    <tr>\n",
              "      <th>Genre</th>\n",
              "      <td>0</td>\n",
              "    </tr>\n",
              "    <tr>\n",
              "      <th>Publisher</th>\n",
              "      <td>58</td>\n",
              "    </tr>\n",
              "    <tr>\n",
              "      <th>NA_Sales</th>\n",
              "      <td>0</td>\n",
              "    </tr>\n",
              "    <tr>\n",
              "      <th>EU_Sales</th>\n",
              "      <td>0</td>\n",
              "    </tr>\n",
              "    <tr>\n",
              "      <th>JP_Sales</th>\n",
              "      <td>0</td>\n",
              "    </tr>\n",
              "    <tr>\n",
              "      <th>Other_Sales</th>\n",
              "      <td>0</td>\n",
              "    </tr>\n",
              "    <tr>\n",
              "      <th>Global_Sales</th>\n",
              "      <td>0</td>\n",
              "    </tr>\n",
              "  </tbody>\n",
              "</table>\n",
              "</div><br><label><b>dtype:</b> int64</label>"
            ]
          },
          "metadata": {},
          "execution_count": 10
        }
      ]
    },
    {
      "cell_type": "code",
      "source": [
        "imdb_games_df.isnull().sum()"
      ],
      "metadata": {
        "id": "Sz5abNaduYns",
        "outputId": "2c0105bd-baed-4cec-da8c-47791328a1b4",
        "colab": {
          "base_uri": "https://localhost:8080/",
          "height": 617
        }
      },
      "execution_count": null,
      "outputs": [
        {
          "output_type": "execute_result",
          "data": {
            "text/plain": [
              "Unnamed: 0         0\n",
              "name               0\n",
              "url                0\n",
              "year             267\n",
              "certificate    12900\n",
              "rating          9203\n",
              "votes           9203\n",
              "plot               0\n",
              "Action             0\n",
              "Adventure          0\n",
              "Comedy             0\n",
              "Crime              0\n",
              "Family             0\n",
              "Fantasy            0\n",
              "Mystery            0\n",
              "Sci-Fi             0\n",
              "Thriller           0\n",
              "dtype: int64"
            ],
            "text/html": [
              "<div>\n",
              "<style scoped>\n",
              "    .dataframe tbody tr th:only-of-type {\n",
              "        vertical-align: middle;\n",
              "    }\n",
              "\n",
              "    .dataframe tbody tr th {\n",
              "        vertical-align: top;\n",
              "    }\n",
              "\n",
              "    .dataframe thead th {\n",
              "        text-align: right;\n",
              "    }\n",
              "</style>\n",
              "<table border=\"1\" class=\"dataframe\">\n",
              "  <thead>\n",
              "    <tr style=\"text-align: right;\">\n",
              "      <th></th>\n",
              "      <th>0</th>\n",
              "    </tr>\n",
              "  </thead>\n",
              "  <tbody>\n",
              "    <tr>\n",
              "      <th>Unnamed: 0</th>\n",
              "      <td>0</td>\n",
              "    </tr>\n",
              "    <tr>\n",
              "      <th>name</th>\n",
              "      <td>0</td>\n",
              "    </tr>\n",
              "    <tr>\n",
              "      <th>url</th>\n",
              "      <td>0</td>\n",
              "    </tr>\n",
              "    <tr>\n",
              "      <th>year</th>\n",
              "      <td>267</td>\n",
              "    </tr>\n",
              "    <tr>\n",
              "      <th>certificate</th>\n",
              "      <td>12900</td>\n",
              "    </tr>\n",
              "    <tr>\n",
              "      <th>rating</th>\n",
              "      <td>9203</td>\n",
              "    </tr>\n",
              "    <tr>\n",
              "      <th>votes</th>\n",
              "      <td>9203</td>\n",
              "    </tr>\n",
              "    <tr>\n",
              "      <th>plot</th>\n",
              "      <td>0</td>\n",
              "    </tr>\n",
              "    <tr>\n",
              "      <th>Action</th>\n",
              "      <td>0</td>\n",
              "    </tr>\n",
              "    <tr>\n",
              "      <th>Adventure</th>\n",
              "      <td>0</td>\n",
              "    </tr>\n",
              "    <tr>\n",
              "      <th>Comedy</th>\n",
              "      <td>0</td>\n",
              "    </tr>\n",
              "    <tr>\n",
              "      <th>Crime</th>\n",
              "      <td>0</td>\n",
              "    </tr>\n",
              "    <tr>\n",
              "      <th>Family</th>\n",
              "      <td>0</td>\n",
              "    </tr>\n",
              "    <tr>\n",
              "      <th>Fantasy</th>\n",
              "      <td>0</td>\n",
              "    </tr>\n",
              "    <tr>\n",
              "      <th>Mystery</th>\n",
              "      <td>0</td>\n",
              "    </tr>\n",
              "    <tr>\n",
              "      <th>Sci-Fi</th>\n",
              "      <td>0</td>\n",
              "    </tr>\n",
              "    <tr>\n",
              "      <th>Thriller</th>\n",
              "      <td>0</td>\n",
              "    </tr>\n",
              "  </tbody>\n",
              "</table>\n",
              "</div><br><label><b>dtype:</b> int64</label>"
            ]
          },
          "metadata": {},
          "execution_count": 5
        }
      ]
    },
    {
      "cell_type": "code",
      "source": [
        "# Preenchendo os valores NaN na coluna 'Publisher' com 'Unknown'\n",
        "vgsales_df['Publisher'] = vgsales_df['Publisher'].fillna('Unknown')"
      ],
      "metadata": {
        "id": "kuvB9CVF6spd"
      },
      "execution_count": null,
      "outputs": []
    },
    {
      "cell_type": "markdown",
      "source": [
        "Identificar e remover dados duplicados"
      ],
      "metadata": {
        "id": "RRPlPM8y79Ld"
      }
    },
    {
      "cell_type": "code",
      "source": [
        "vgsales_df.duplicated().sum()\n",
        "# Saída\n",
        "# np.int64(0)"
      ],
      "metadata": {
        "colab": {
          "base_uri": "https://localhost:8080/"
        },
        "id": "fyonxicM89RU",
        "outputId": "5b1ec80b-ff7f-4511-ad60-d52848276df1"
      },
      "execution_count": null,
      "outputs": [
        {
          "output_type": "execute_result",
          "data": {
            "text/plain": [
              "np.int64(0)"
            ]
          },
          "metadata": {},
          "execution_count": 13
        }
      ]
    },
    {
      "cell_type": "markdown",
      "source": [
        "Padronização dos dados\n",
        "\n",
        "Verificação dos formatos de dados"
      ],
      "metadata": {
        "id": "TpjwM-oV9tmp"
      }
    },
    {
      "cell_type": "code",
      "source": [
        "# Verificar os titpos de dados\n",
        "vgsales_df['Global_Sales'].dtype"
      ],
      "metadata": {
        "colab": {
          "base_uri": "https://localhost:8080/"
        },
        "id": "wNVCJW7n9PVw",
        "outputId": "62af6923-a5d8-442e-f2d2-54cef0dc2ceb"
      },
      "execution_count": null,
      "outputs": [
        {
          "output_type": "execute_result",
          "data": {
            "text/plain": [
              "dtype('float64')"
            ]
          },
          "metadata": {},
          "execution_count": 14
        }
      ]
    },
    {
      "cell_type": "code",
      "source": [
        "vgsales_df.dtypes"
      ],
      "metadata": {
        "colab": {
          "base_uri": "https://localhost:8080/",
          "height": 429
        },
        "id": "I_v0lw5N-x9u",
        "outputId": "0c8fdf1e-394d-48d3-bcb7-3f0b43d2293d"
      },
      "execution_count": null,
      "outputs": [
        {
          "output_type": "execute_result",
          "data": {
            "text/plain": [
              "Rank              int64\n",
              "Name             object\n",
              "Platform         object\n",
              "Year            float64\n",
              "Genre            object\n",
              "Publisher        object\n",
              "NA_Sales        float64\n",
              "EU_Sales        float64\n",
              "JP_Sales        float64\n",
              "Other_Sales     float64\n",
              "Global_Sales    float64\n",
              "dtype: object"
            ],
            "text/html": [
              "<div>\n",
              "<style scoped>\n",
              "    .dataframe tbody tr th:only-of-type {\n",
              "        vertical-align: middle;\n",
              "    }\n",
              "\n",
              "    .dataframe tbody tr th {\n",
              "        vertical-align: top;\n",
              "    }\n",
              "\n",
              "    .dataframe thead th {\n",
              "        text-align: right;\n",
              "    }\n",
              "</style>\n",
              "<table border=\"1\" class=\"dataframe\">\n",
              "  <thead>\n",
              "    <tr style=\"text-align: right;\">\n",
              "      <th></th>\n",
              "      <th>0</th>\n",
              "    </tr>\n",
              "  </thead>\n",
              "  <tbody>\n",
              "    <tr>\n",
              "      <th>Rank</th>\n",
              "      <td>int64</td>\n",
              "    </tr>\n",
              "    <tr>\n",
              "      <th>Name</th>\n",
              "      <td>object</td>\n",
              "    </tr>\n",
              "    <tr>\n",
              "      <th>Platform</th>\n",
              "      <td>object</td>\n",
              "    </tr>\n",
              "    <tr>\n",
              "      <th>Year</th>\n",
              "      <td>float64</td>\n",
              "    </tr>\n",
              "    <tr>\n",
              "      <th>Genre</th>\n",
              "      <td>object</td>\n",
              "    </tr>\n",
              "    <tr>\n",
              "      <th>Publisher</th>\n",
              "      <td>object</td>\n",
              "    </tr>\n",
              "    <tr>\n",
              "      <th>NA_Sales</th>\n",
              "      <td>float64</td>\n",
              "    </tr>\n",
              "    <tr>\n",
              "      <th>EU_Sales</th>\n",
              "      <td>float64</td>\n",
              "    </tr>\n",
              "    <tr>\n",
              "      <th>JP_Sales</th>\n",
              "      <td>float64</td>\n",
              "    </tr>\n",
              "    <tr>\n",
              "      <th>Other_Sales</th>\n",
              "      <td>float64</td>\n",
              "    </tr>\n",
              "    <tr>\n",
              "      <th>Global_Sales</th>\n",
              "      <td>float64</td>\n",
              "    </tr>\n",
              "  </tbody>\n",
              "</table>\n",
              "</div><br><label><b>dtype:</b> object</label>"
            ]
          },
          "metadata": {},
          "execution_count": 15
        }
      ]
    },
    {
      "cell_type": "markdown",
      "source": [
        "Remover colunas desnecessárias à análise\n",
        "\n",
        "1º Criar uma lista das colunas a remover\n",
        "2º Usar a função drop() para remover as colunas\n",
        "3º Incluir o parâmetro 'axis=1' para informar o pandas que deve ser removida a coluna e não a linha\n",
        "4º Incluir o parâmetro 'inplace=True' para modificar diretamente no dataframe"
      ],
      "metadata": {
        "id": "jev34MSTBiyU"
      }
    },
    {
      "cell_type": "code",
      "source": [
        "colunas_para_remover = ['Rank', 'Platform', 'Year']\n",
        "vgsales_df.drop(colunas_para_remover, axis=1, inplace=True)"
      ],
      "metadata": {
        "id": "avfrJbnZ_a9E"
      },
      "execution_count": null,
      "outputs": []
    },
    {
      "cell_type": "code",
      "source": [
        "vgsales_df.dtypes"
      ],
      "metadata": {
        "colab": {
          "base_uri": "https://localhost:8080/",
          "height": 335
        },
        "id": "a9i5ve0TBRlZ",
        "outputId": "6bf52a36-eccd-4ca5-dc52-788ec38013d5"
      },
      "execution_count": null,
      "outputs": [
        {
          "output_type": "execute_result",
          "data": {
            "text/plain": [
              "Name             object\n",
              "Genre            object\n",
              "Publisher        object\n",
              "NA_Sales        float64\n",
              "EU_Sales        float64\n",
              "JP_Sales        float64\n",
              "Other_Sales     float64\n",
              "Global_Sales    float64\n",
              "dtype: object"
            ],
            "text/html": [
              "<div>\n",
              "<style scoped>\n",
              "    .dataframe tbody tr th:only-of-type {\n",
              "        vertical-align: middle;\n",
              "    }\n",
              "\n",
              "    .dataframe tbody tr th {\n",
              "        vertical-align: top;\n",
              "    }\n",
              "\n",
              "    .dataframe thead th {\n",
              "        text-align: right;\n",
              "    }\n",
              "</style>\n",
              "<table border=\"1\" class=\"dataframe\">\n",
              "  <thead>\n",
              "    <tr style=\"text-align: right;\">\n",
              "      <th></th>\n",
              "      <th>0</th>\n",
              "    </tr>\n",
              "  </thead>\n",
              "  <tbody>\n",
              "    <tr>\n",
              "      <th>Name</th>\n",
              "      <td>object</td>\n",
              "    </tr>\n",
              "    <tr>\n",
              "      <th>Genre</th>\n",
              "      <td>object</td>\n",
              "    </tr>\n",
              "    <tr>\n",
              "      <th>Publisher</th>\n",
              "      <td>object</td>\n",
              "    </tr>\n",
              "    <tr>\n",
              "      <th>NA_Sales</th>\n",
              "      <td>float64</td>\n",
              "    </tr>\n",
              "    <tr>\n",
              "      <th>EU_Sales</th>\n",
              "      <td>float64</td>\n",
              "    </tr>\n",
              "    <tr>\n",
              "      <th>JP_Sales</th>\n",
              "      <td>float64</td>\n",
              "    </tr>\n",
              "    <tr>\n",
              "      <th>Other_Sales</th>\n",
              "      <td>float64</td>\n",
              "    </tr>\n",
              "    <tr>\n",
              "      <th>Global_Sales</th>\n",
              "      <td>float64</td>\n",
              "    </tr>\n",
              "  </tbody>\n",
              "</table>\n",
              "</div><br><label><b>dtype:</b> object</label>"
            ]
          },
          "metadata": {},
          "execution_count": 17
        }
      ]
    },
    {
      "cell_type": "markdown",
      "source": [
        "Agora começar a análise enfim\n",
        "\n",
        "1º Agrupar os dados pela coluna 'Genre' e somar as vendas globais\n",
        "2º Ordenar o resultado em ordem decrescente\n",
        "3º Exibir os 5 primeiros generos"
      ],
      "metadata": {
        "id": "hGTzHZGwDvXb"
      }
    },
    {
      "cell_type": "code",
      "source": [
        "# Agrupar os dados pela coluna 'Genre'\n",
        "generos_mais_vendidos_global = vgsales_df.groupby('Genre')['Global_Sales'].sum()\n",
        "generos_mais_vendidos_eu = vgsales_df.groupby('Genre')['EU_Sales'].sum()\n",
        "generos_mais_vendidos_jp = vgsales_df.groupby('Genre')['JP_Sales'].sum()\n",
        "generos_mais_vendidos_na = vgsales_df.groupby('Genre')['NA_Sales'].sum()\n",
        "\n",
        "# Ordenar de modo decrescente\n",
        "generos_mais_vendidos_global = generos_mais_vendidos_global.sort_values(ascending=False)\n",
        "generos_mais_vendidos_eu = generos_mais_vendidos_eu.sort_values(ascending=False)\n",
        "generos_mais_vendidos_jp = generos_mais_vendidos_jp.sort_values(ascending=False)\n",
        "generos_mais_vendidos_na = generos_mais_vendidos_na.sort_values(ascending=False)\n",
        "\n",
        "# Exibir os 5 primeiros gêneros mais vendidos\n",
        "print(f\"Global Sales\\n{generos_mais_vendidos_global}\")\n",
        "print(f\"\\nEurope Sales:\\n{generos_mais_vendidos_eu.head()}\")\n",
        "print(f\"\\nJapain Sales\\n{generos_mais_vendidos_jp.head()}\")\n",
        "print(f\"\\nNorth American Sales\\n{generos_mais_vendidos_na.head()}\")"
      ],
      "metadata": {
        "colab": {
          "base_uri": "https://localhost:8080/"
        },
        "id": "loKr9k4PEB3i",
        "outputId": "e195de81-7b71-4cfb-f9e2-7a767c7db4fe"
      },
      "execution_count": null,
      "outputs": [
        {
          "output_type": "stream",
          "name": "stdout",
          "text": [
            "Global Sales\n",
            "Genre\n",
            "Action          1751.18\n",
            "Sports          1330.93\n",
            "Shooter         1037.37\n",
            "Role-Playing     927.37\n",
            "Platform         831.37\n",
            "Misc             809.96\n",
            "Racing           732.04\n",
            "Fighting         448.91\n",
            "Simulation       392.20\n",
            "Puzzle           244.95\n",
            "Adventure        239.04\n",
            "Strategy         175.12\n",
            "Name: Global_Sales, dtype: float64\n",
            "\n",
            "Europe Sales:\n",
            "Genre\n",
            "Action     525.00\n",
            "Sports     376.85\n",
            "Shooter    313.27\n",
            "Racing     238.39\n",
            "Misc       215.98\n",
            "Name: EU_Sales, dtype: float64\n",
            "\n",
            "Japain Sales\n",
            "Genre\n",
            "Role-Playing    352.31\n",
            "Action          159.95\n",
            "Sports          135.37\n",
            "Platform        130.77\n",
            "Misc            107.76\n",
            "Name: JP_Sales, dtype: float64\n",
            "\n",
            "North American Sales\n",
            "Genre\n",
            "Action      877.83\n",
            "Sports      683.35\n",
            "Shooter     582.60\n",
            "Platform    447.05\n",
            "Misc        410.24\n",
            "Name: NA_Sales, dtype: float64\n"
          ]
        }
      ]
    },
    {
      "cell_type": "code",
      "source": [
        "# Calcular o percentual de cada gênero\n",
        "percentual_por_genero = (generos_mais_vendidos_global / generos_mais_vendidos_global.sum()) * 100\n",
        "\n",
        "# Criando um novo dataframe 'vendas_e_percentual'\n",
        "# Usar a coluna Genre para ser a coluna normal, para isso utilizar o método .reset_index()\n",
        "vendas_e_percentual = generos_mais_vendidos_global.reset_index(name='Globals Sales (un)')\n",
        "\n",
        "# Adiciona a nova coluna percentual\n",
        "vendas_e_percentual['Percentual (%)'] = percentual_por_genero.values\n",
        "\n",
        "# Ordenar a visualização\n",
        "vendas_e_percentual = vendas_e_percentual.sort_values(by='Globals Sales (un)', ascending=False)\n",
        "\n",
        "# Formatar a coluna percentual para apresentação dos dados\n",
        "vendas_e_percentual['Percentual (%)'] = vendas_e_percentual['Percentual (%)'].map(lambda x: f'{x:.2f}')\n",
        "\n",
        "print(vendas_e_percentual)"
      ],
      "metadata": {
        "colab": {
          "base_uri": "https://localhost:8080/"
        },
        "id": "AP9j2Xc0Q3Pe",
        "outputId": "2457691e-609c-4a82-cc42-67a38af3a137"
      },
      "execution_count": null,
      "outputs": [
        {
          "output_type": "stream",
          "name": "stdout",
          "text": [
            "           Genre  Globals Sales (un) Percentual (%)\n",
            "0         Action             1751.18          19.63\n",
            "1         Sports             1330.93          14.92\n",
            "2        Shooter             1037.37          11.63\n",
            "3   Role-Playing              927.37          10.40\n",
            "4       Platform              831.37           9.32\n",
            "5           Misc              809.96           9.08\n",
            "6         Racing              732.04           8.21\n",
            "7       Fighting              448.91           5.03\n",
            "8     Simulation              392.20           4.40\n",
            "9         Puzzle              244.95           2.75\n",
            "10     Adventure              239.04           2.68\n",
            "11      Strategy              175.12           1.96\n"
          ]
        }
      ]
    },
    {
      "cell_type": "code",
      "source": [
        "import matplotlib.pyplot as plt\n",
        "\n",
        "# Criação do gráfico de barras\n",
        "plt.figure(figsize=(12, 6)) # Definição do tamanho do gráfico\n",
        "plt.bar(vendas_e_percentual['Genre'], vendas_e_percentual['Globals Sales (un)'])\n",
        "\n",
        "\n",
        "# Adiciona títulos e rótulo\n",
        "plt.title('Vendas Globais por Gênero de jogo', fontsize=16)\n",
        "plt.xlabel('Gênero', fontsize=12)\n",
        "plt.ylabel('Vendas Globais (em milhões de unidades)', fontsize=12)\n",
        "plt.xticks(rotation=45, ha='right') # Gira os rótulos do eixo X para não ficarem sobrepostos\n",
        "plt.tight_layout() # Ajusta o layout para evitar cortes\n",
        "\n",
        "plt.show() # Mostra o gráfico\n"
      ],
      "metadata": {
        "colab": {
          "base_uri": "https://localhost:8080/",
          "height": 607
        },
        "id": "C2lPY2vpcEbm",
        "outputId": "9f363f68-388d-4d59-a33f-8fbc1b7d0d2b"
      },
      "execution_count": null,
      "outputs": [
        {
          "output_type": "display_data",
          "data": {
            "text/plain": [
              "<Figure size 1200x600 with 1 Axes>"
            ],
            "image/png": "[encoded data removed]"
          },
          "metadata": {}
        }
      ]
    },
    {
      "cell_type": "code",
      "source": [
        "# Um gráfico de setores (pizza) para entender a participação de cada genero nas vendas globais\n",
        "\n",
        "# Definindo os rótulos\n",
        "vendas = vendas_e_percentual['Globals Sales (un)']\n",
        "generos =vendas_e_percentual['Genre']\n",
        "\n",
        "plt.figure(figsize=(10, 10))\n",
        "\n",
        "plt.pie(vendas, labels=generos, autopct='%1.1f%%', startangle=140) # autopct=%1.1f%% forma os percentuais para mostrar em casa decimal\n",
        "\n",
        "# Adiciona um título\n",
        "plt.title('Participação Percentual das Vendas Globais por Gênero', fontsize=14)\n",
        "plt.axis('equal') # Garante que o gráfico de pizza seja um círculo perfeito\n",
        "plt.show()"
      ],
      "metadata": {
        "colab": {
          "base_uri": "https://localhost:8080/",
          "height": 831
        },
        "id": "v7ODR1rJSUbG",
        "outputId": "bb05d467-fd4a-4eab-ba93-94041129cd4c"
      },
      "execution_count": null,
      "outputs": [
        {
          "output_type": "display_data",
          "data": {
            "text/plain": [
              "<Figure size 1000x1000 with 1 Axes>"
            ],
            "image/png": "[encoded data removed]"
          },
          "metadata": {}
        }
      ]
    },
    {
      "cell_type": "code",
      "source": [
        "publishers_global = vgsales_df.groupby('Publisher')['Global_Sales'].sum()\n",
        "publishers_na = vgsales_df.groupby('Publisher')['NA_Sales'].sum()\n",
        "publishers_eu = vgsales_df.groupby('Publisher')['EU_Sales'].sum()\n",
        "publishers_jp = vgsales_df.groupby('Publisher')['JP_Sales'].sum()\n",
        "\n",
        "publishers_global = publishers_global.sort_values(ascending=False)\n",
        "publishers_na = publishers_na.sort_values(ascending=False)\n",
        "publishers_eu = publishers_eu.sort_values(ascending=False)\n",
        "publishers_jp = publishers_jp.sort_values(ascending=False)\n",
        "\n",
        "# print(f\"\\nPublicadores de Jogos de maior sucesso Global\\n{publishers_global}\")\n",
        "print(f\"\\nTop publishers games Global Sales\\n{publishers_global.head(10)}\")\n",
        "print(f\"\\nPublicadores de Jogos de maior sucesso North America\\n{publishers_na.head()}\")\n",
        "print(f\"\\nPublicadores de Jogos de maior sucesso Europe\\n{publishers_eu.head()}\")\n",
        "print(f\"\\nPublicadores de Jogos de maior sucesso Japain\\n{publishers_jp.head()}\")"
      ],
      "metadata": {
        "colab": {
          "base_uri": "https://localhost:8080/"
        },
        "id": "OTh2zI4zHLPt",
        "outputId": "666932f7-493d-4b61-9e39-2676058c19aa"
      },
      "execution_count": null,
      "outputs": [
        {
          "output_type": "stream",
          "name": "stdout",
          "text": [
            "\n",
            "Top publishers games Global Sales\n",
            "Publisher\n",
            "Nintendo                        1786.56\n",
            "Electronic Arts                 1110.32\n",
            "Activision                       727.46\n",
            "Sony Computer Entertainment      607.50\n",
            "Ubisoft                          474.72\n",
            "Take-Two Interactive             399.54\n",
            "THQ                              340.77\n",
            "Konami Digital Entertainment     283.64\n",
            "Sega                             272.99\n",
            "Namco Bandai Games               254.09\n",
            "Name: Global_Sales, dtype: float64\n",
            "\n",
            "Publicadores de Jogos de maior sucesso North America\n",
            "Publisher\n",
            "Nintendo                       816.87\n",
            "Electronic Arts                595.07\n",
            "Activision                     429.70\n",
            "Sony Computer Entertainment    265.22\n",
            "Ubisoft                        253.43\n",
            "Name: NA_Sales, dtype: float64\n",
            "\n",
            "Publicadores de Jogos de maior sucesso Europe\n",
            "Publisher\n",
            "Nintendo                       418.74\n",
            "Electronic Arts                371.27\n",
            "Activision                     215.53\n",
            "Sony Computer Entertainment    187.72\n",
            "Ubisoft                        163.32\n",
            "Name: EU_Sales, dtype: float64\n",
            "\n",
            "Publicadores de Jogos de maior sucesso Japain\n",
            "Publisher\n",
            "Nintendo                        455.42\n",
            "Namco Bandai Games              127.07\n",
            "Konami Digital Entertainment     91.30\n",
            "Sony Computer Entertainment      74.10\n",
            "Capcom                           68.08\n",
            "Name: JP_Sales, dtype: float64\n"
          ]
        }
      ]
    },
    {
      "cell_type": "markdown",
      "source": [
        "Agora responder a terceira pergunta: Por quê o sucesso de vendas de certa categoria de jogos?\n",
        "\n",
        "Para isso vamos investigar dos DataFrames quais representam melhor opção ou talvez a combinação de mais de um dataframe."
      ],
      "metadata": {
        "id": "Uwu30VLYRrqO"
      }
    },
    {
      "cell_type": "code",
      "source": [
        "imdb_games_df.columns"
      ],
      "metadata": {
        "colab": {
          "base_uri": "https://localhost:8080/"
        },
        "id": "Q7z73rmUR8KN",
        "outputId": "4a8de5f0-a69a-4dbc-e6e5-81692796c993"
      },
      "execution_count": null,
      "outputs": [
        {
          "output_type": "execute_result",
          "data": {
            "text/plain": [
              "Index(['Unnamed: 0', 'name', 'url', 'year', 'certificate', 'rating', 'votes',\n",
              "       'plot', 'Action', 'Adventure', 'Comedy', 'Crime', 'Family', 'Fantasy',\n",
              "       'Mystery', 'Sci-Fi', 'Thriller'],\n",
              "      dtype='object')"
            ]
          },
          "metadata": {},
          "execution_count": 10
        }
      ]
    },
    {
      "cell_type": "markdown",
      "source": [
        "Parece que para entender o sucesso de vendas, no dataframe imdb_games temos duas colunas principais: 'rating' e 'votes', então vou começar a validação e limpeza de dados por essas colunas:\n",
        "\n",
        "Validar dados na coluna rating:\n",
        "Verificar se há valores nulos:\n",
        "imdb_games_df.isnull().sum() -> verificar se há valores nulos e determinar se esses dados interferem na análise."
      ],
      "metadata": {
        "id": "ssiaCxLzTcjj"
      }
    },
    {
      "cell_type": "code",
      "source": [
        "print('\\nDescrição da tabela')\n",
        "# imdb_games_df.dtypes\n",
        "\n",
        "# print('\\nColunas com valores nulos\\n')\n",
        "# imdb_games_df.isnull().sum()\n",
        "\n",
        "print(\"\\nVerificando valores com entrada de tipo diferente\")\n",
        "imdb_games_df.isna().sum()"
      ],
      "metadata": {
        "colab": {
          "base_uri": "https://localhost:8080/",
          "height": 686
        },
        "id": "5GqxoKZASdbD",
        "outputId": "adf88a3f-1c4b-482f-ca27-6173e7d90262"
      },
      "execution_count": null,
      "outputs": [
        {
          "output_type": "stream",
          "name": "stdout",
          "text": [
            "\n",
            "Descrição da tabela\n",
            "\n",
            "Verificando valores com entrada de tipo diferente\n"
          ]
        },
        {
          "output_type": "execute_result",
          "data": {
            "text/plain": [
              "Unnamed: 0         0\n",
              "name               0\n",
              "url                0\n",
              "year             267\n",
              "certificate    12900\n",
              "rating          9203\n",
              "votes           9203\n",
              "plot               0\n",
              "Action             0\n",
              "Adventure          0\n",
              "Comedy             0\n",
              "Crime              0\n",
              "Family             0\n",
              "Fantasy            0\n",
              "Mystery            0\n",
              "Sci-Fi             0\n",
              "Thriller           0\n",
              "dtype: int64"
            ],
            "text/html": [
              "<div>\n",
              "<style scoped>\n",
              "    .dataframe tbody tr th:only-of-type {\n",
              "        vertical-align: middle;\n",
              "    }\n",
              "\n",
              "    .dataframe tbody tr th {\n",
              "        vertical-align: top;\n",
              "    }\n",
              "\n",
              "    .dataframe thead th {\n",
              "        text-align: right;\n",
              "    }\n",
              "</style>\n",
              "<table border=\"1\" class=\"dataframe\">\n",
              "  <thead>\n",
              "    <tr style=\"text-align: right;\">\n",
              "      <th></th>\n",
              "      <th>0</th>\n",
              "    </tr>\n",
              "  </thead>\n",
              "  <tbody>\n",
              "    <tr>\n",
              "      <th>Unnamed: 0</th>\n",
              "      <td>0</td>\n",
              "    </tr>\n",
              "    <tr>\n",
              "      <th>name</th>\n",
              "      <td>0</td>\n",
              "    </tr>\n",
              "    <tr>\n",
              "      <th>url</th>\n",
              "      <td>0</td>\n",
              "    </tr>\n",
              "    <tr>\n",
              "      <th>year</th>\n",
              "      <td>267</td>\n",
              "    </tr>\n",
              "    <tr>\n",
              "      <th>certificate</th>\n",
              "      <td>12900</td>\n",
              "    </tr>\n",
              "    <tr>\n",
              "      <th>rating</th>\n",
              "      <td>9203</td>\n",
              "    </tr>\n",
              "    <tr>\n",
              "      <th>votes</th>\n",
              "      <td>9203</td>\n",
              "    </tr>\n",
              "    <tr>\n",
              "      <th>plot</th>\n",
              "      <td>0</td>\n",
              "    </tr>\n",
              "    <tr>\n",
              "      <th>Action</th>\n",
              "      <td>0</td>\n",
              "    </tr>\n",
              "    <tr>\n",
              "      <th>Adventure</th>\n",
              "      <td>0</td>\n",
              "    </tr>\n",
              "    <tr>\n",
              "      <th>Comedy</th>\n",
              "      <td>0</td>\n",
              "    </tr>\n",
              "    <tr>\n",
              "      <th>Crime</th>\n",
              "      <td>0</td>\n",
              "    </tr>\n",
              "    <tr>\n",
              "      <th>Family</th>\n",
              "      <td>0</td>\n",
              "    </tr>\n",
              "    <tr>\n",
              "      <th>Fantasy</th>\n",
              "      <td>0</td>\n",
              "    </tr>\n",
              "    <tr>\n",
              "      <th>Mystery</th>\n",
              "      <td>0</td>\n",
              "    </tr>\n",
              "    <tr>\n",
              "      <th>Sci-Fi</th>\n",
              "      <td>0</td>\n",
              "    </tr>\n",
              "    <tr>\n",
              "      <th>Thriller</th>\n",
              "      <td>0</td>\n",
              "    </tr>\n",
              "  </tbody>\n",
              "</table>\n",
              "</div><br><label><b>dtype:</b> int64</label>"
            ]
          },
          "metadata": {},
          "execution_count": 11
        }
      ]
    },
    {
      "cell_type": "markdown",
      "source": [
        "Fazer o merge entre os dataframes: vgsales e imdg_games, juntando as tabelas e tentar traçar uma relação entre o número de vendas e o rating de cada categoria de jogos.  \n",
        "\n",
        "Para isso vamos realizar a função merge do pandas.\n",
        "Para isso escolhemos uma coluna que seja comum entre os dois data frames:\n",
        "\n",
        "print(f\"Colunas VGSALES: {vgsales_df.columns}\")\n",
        "\n",
        "print(f\"\\nColuna IMDB_GAMES: {imdb_games_df.columns}\")\n",
        "\n",
        "### SAÍDA\n",
        "Colunas VGSALES: Index(['Rank', 'Name', 'Platform', 'Year', 'Genre', # 'Publisher', 'NA_Sales',\n",
        "       'EU_Sales', 'JP_Sales', 'Other_Sales', 'Global_Sales'],\n",
        "      dtype='object')\n",
        "\n",
        "Coluna IMDB_GAMES: Index(['Unnamed: 0', 'name', 'url', 'year', 'certificate', 'rating', 'votes',\n",
        "       'plot', 'Action', 'Adventure', 'Comedy', 'Crime', 'Family', 'Fantasy',\n",
        "       'Mystery', 'Sci-Fi', 'Thriller'],\n",
        "      dtype='object')\n",
        "\n",
        "\n",
        "      Parece que a coluna comum é a coluna 'name'"
      ],
      "metadata": {
        "id": "8kP-uLsHdF74"
      }
    },
    {
      "cell_type": "code",
      "source": [
        "# vendas_com_notas_df = pd.merge(vgsales_df, imdb_games_df, on='name', how='inner')\n",
        "\n",
        "imdb_games_df = imdb_games_df.rename(columns={\"name\": \"Name\"}) # <- renomeando a coluna name porque para realizar o merge as colunas dos dataframes precisam ter o mesmo nome.\n",
        "\n",
        "vendas_com_notas_df = vgsales_df.merge(imdb_games_df, on='Name', how='inner')"
      ],
      "metadata": {
        "id": "-rOFGBmQUdA-"
      },
      "execution_count": null,
      "outputs": []
    },
    {
      "cell_type": "code",
      "source": [
        "vendas_com_notas_df.drop_duplicates(subset='Name', keep='first', inplace=True)"
      ],
      "metadata": {
        "id": "T_EqA8i8rXoO"
      },
      "execution_count": null,
      "outputs": []
    },
    {
      "cell_type": "code",
      "source": [
        "# Lista das colunas de categorias do df imdb para exclusão do df de união\n",
        "colunas_para_remover = ['Action', 'Adventure','Comedy', 'Crime', 'Family', 'Fantasy', 'Mystery', 'Sci-Fi', 'Thriller']\n",
        "\n",
        "# Removendo as colunas\n",
        "vendas_com_notas_df.drop(colunas_para_remover, axis=1, inplace=True)\n"
      ],
      "metadata": {
        "id": "lH7Z77XNwIo6"
      },
      "execution_count": null,
      "outputs": []
    },
    {
      "cell_type": "code",
      "source": [
        "colunas_para_remover_final = ['Unnamed: 0', 'url', 'year', 'certificate', 'plot']\n",
        "\n",
        "vendas_com_notas_df.drop(colunas_para_remover_final, axis=1, inplace=True)"
      ],
      "metadata": {
        "id": "xipqTH8eS9K0"
      },
      "execution_count": null,
      "outputs": []
    },
    {
      "cell_type": "code",
      "source": [
        "vendas_com_notas_df.head()"
      ],
      "metadata": {
        "colab": {
          "base_uri": "https://localhost:8080/",
          "height": 206
        },
        "id": "Ae-hBjRjTx70",
        "outputId": "0c7356d1-5a2d-49e1-f849-9285b581878a"
      },
      "execution_count": null,
      "outputs": [
        {
          "output_type": "execute_result",
          "data": {
            "text/plain": [
              "                Name     Genre Publisher  NA_Sales  EU_Sales  JP_Sales  \\\n",
              "0         Wii Sports    Sports  Nintendo     41.49     29.02      3.77   \n",
              "1  Super Mario Bros.  Platform  Nintendo     29.08      3.58      6.81   \n",
              "3     Mario Kart Wii    Racing  Nintendo     15.85     12.88      3.79   \n",
              "5  Wii Sports Resort    Sports  Nintendo     15.75     11.01      3.28   \n",
              "6             Tetris    Puzzle  Nintendo     23.20      2.26      4.22   \n",
              "\n",
              "   Other_Sales  Global_Sales  rating  votes  \n",
              "0         8.46         82.74     7.7  3,883  \n",
              "1         0.77         40.24     8.9  6,207  \n",
              "3         3.31         35.82     8.4  3,925  \n",
              "5         2.96         33.00     7.8  1,435  \n",
              "6         0.58         30.26     8.4    147  "
            ],
            "text/html": [
              "\n",
              "  <div id=\"df-f3703a07-114b-4191-901e-4af036b1f27a\" class=\"colab-df-container\">\n",
              "    <div>\n",
              "<style scoped>\n",
              "    .dataframe tbody tr th:only-of-type {\n",
              "        vertical-align: middle;\n",
              "    }\n",
              "\n",
              "    .dataframe tbody tr th {\n",
              "        vertical-align: top;\n",
              "    }\n",
              "\n",
              "    .dataframe thead th {\n",
              "        text-align: right;\n",
              "    }\n",
              "</style>\n",
              "<table border=\"1\" class=\"dataframe\">\n",
              "  <thead>\n",
              "    <tr style=\"text-align: right;\">\n",
              "      <th></th>\n",
              "      <th>Name</th>\n",
              "      <th>Genre</th>\n",
              "      <th>Publisher</th>\n",
              "      <th>NA_Sales</th>\n",
              "      <th>EU_Sales</th>\n",
              "      <th>JP_Sales</th>\n",
              "      <th>Other_Sales</th>\n",
              "      <th>Global_Sales</th>\n",
              "      <th>rating</th>\n",
              "      <th>votes</th>\n",
              "    </tr>\n",
              "  </thead>\n",
              "  <tbody>\n",
              "    <tr>\n",
              "      <th>0</th>\n",
              "      <td>Wii Sports</td>\n",
              "      <td>Sports</td>\n",
              "      <td>Nintendo</td>\n",
              "      <td>41.49</td>\n",
              "      <td>29.02</td>\n",
              "      <td>3.77</td>\n",
              "      <td>8.46</td>\n",
              "      <td>82.74</td>\n",
              "      <td>7.7</td>\n",
              "      <td>3,883</td>\n",
              "    </tr>\n",
              "    <tr>\n",
              "      <th>1</th>\n",
              "      <td>Super Mario Bros.</td>\n",
              "      <td>Platform</td>\n",
              "      <td>Nintendo</td>\n",
              "      <td>29.08</td>\n",
              "      <td>3.58</td>\n",
              "      <td>6.81</td>\n",
              "      <td>0.77</td>\n",
              "      <td>40.24</td>\n",
              "      <td>8.9</td>\n",
              "      <td>6,207</td>\n",
              "    </tr>\n",
              "    <tr>\n",
              "      <th>3</th>\n",
              "      <td>Mario Kart Wii</td>\n",
              "      <td>Racing</td>\n",
              "      <td>Nintendo</td>\n",
              "      <td>15.85</td>\n",
              "      <td>12.88</td>\n",
              "      <td>3.79</td>\n",
              "      <td>3.31</td>\n",
              "      <td>35.82</td>\n",
              "      <td>8.4</td>\n",
              "      <td>3,925</td>\n",
              "    </tr>\n",
              "    <tr>\n",
              "      <th>5</th>\n",
              "      <td>Wii Sports Resort</td>\n",
              "      <td>Sports</td>\n",
              "      <td>Nintendo</td>\n",
              "      <td>15.75</td>\n",
              "      <td>11.01</td>\n",
              "      <td>3.28</td>\n",
              "      <td>2.96</td>\n",
              "      <td>33.00</td>\n",
              "      <td>7.8</td>\n",
              "      <td>1,435</td>\n",
              "    </tr>\n",
              "    <tr>\n",
              "      <th>6</th>\n",
              "      <td>Tetris</td>\n",
              "      <td>Puzzle</td>\n",
              "      <td>Nintendo</td>\n",
              "      <td>23.20</td>\n",
              "      <td>2.26</td>\n",
              "      <td>4.22</td>\n",
              "      <td>0.58</td>\n",
              "      <td>30.26</td>\n",
              "      <td>8.4</td>\n",
              "      <td>147</td>\n",
              "    </tr>\n",
              "  </tbody>\n",
              "</table>\n",
              "</div>\n",
              "    <div class=\"colab-df-buttons\">\n",
              "\n",
              "  <div class=\"colab-df-container\">\n",
              "    <button class=\"colab-df-convert\" onclick=\"convertToInteractive('df-f3703a07-114b-4191-901e-4af036b1f27a')\"\n",
              "            title=\"Convert this dataframe to an interactive table.\"\n",
              "            style=\"display:none;\">\n",
              "\n",
              "  <svg xmlns=\"http://www.w3.org/2000/svg\" height=\"24px\" viewBox=\"0 -960 960 960\">\n",
              "    <path d=\"M120-120v-720h720v720H120Zm60-500h600v-160H180v160Zm220 220h160v-160H400v160Zm0 220h160v-160H400v160ZM180-400h160v-160H180v160Zm440 0h160v-160H620v160ZM180-180h160v-160H180v160Zm440 0h160v-160H620v160Z\"/>\n",
              "  </svg>\n",
              "    </button>\n",
              "\n",
              "  <style>\n",
              "    .colab-df-container {\n",
              "      display:flex;\n",
              "      gap: 12px;\n",
              "    }\n",
              "\n",
              "    .colab-df-convert {\n",
              "      background-color: #E8F0FE;\n",
              "      border: none;\n",
              "      border-radius: 50%;\n",
              "      cursor: pointer;\n",
              "      display: none;\n",
              "      fill: #1967D2;\n",
              "      height: 32px;\n",
              "      padding: 0 0 0 0;\n",
              "      width: 32px;\n",
              "    }\n",
              "\n",
              "    .colab-df-convert:hover {\n",
              "      background-color: #E2EBFA;\n",
              "      box-shadow: 0px 1px 2px rgba(60, 64, 67, 0.3), 0px 1px 3px 1px rgba(60, 64, 67, 0.15);\n",
              "      fill: #174EA6;\n",
              "    }\n",
              "\n",
              "    .colab-df-buttons div {\n",
              "      margin-bottom: 4px;\n",
              "    }\n",
              "\n",
              "    [theme=dark] .colab-df-convert {\n",
              "      background-color: #3B4455;\n",
              "      fill: #D2E3FC;\n",
              "    }\n",
              "\n",
              "    [theme=dark] .colab-df-convert:hover {\n",
              "      background-color: #434B5C;\n",
              "      box-shadow: 0px 1px 3px 1px rgba(0, 0, 0, 0.15);\n",
              "      filter: drop-shadow(0px 1px 2px rgba(0, 0, 0, 0.3));\n",
              "      fill: #FFFFFF;\n",
              "    }\n",
              "  </style>\n",
              "\n",
              "    <script>\n",
              "      const buttonEl =\n",
              "        document.querySelector('#df-f3703a07-114b-4191-901e-4af036b1f27a button.colab-df-convert');\n",
              "      buttonEl.style.display =\n",
              "        google.colab.kernel.accessAllowed ? 'block' : 'none';\n",
              "\n",
              "      async function convertToInteractive(key) {\n",
              "        const element = document.querySelector('#df-f3703a07-114b-4191-901e-4af036b1f27a');\n",
              "        const dataTable =\n",
              "          await google.colab.kernel.invokeFunction('convertToInteractive',\n",
              "                                                    [key], {});\n",
              "        if (!dataTable) return;\n",
              "\n",
              "        const docLinkHtml = 'Like what you see? Visit the ' +\n",
              "          '<a target=\"_blank\" href=https://colab.research.google.com/notebooks/data_table.ipynb>data table notebook</a>'\n",
              "          + ' to learn more about interactive tables.';\n",
              "        element.innerHTML = '';\n",
              "        dataTable['output_type'] = 'display_data';\n",
              "        await google.colab.output.renderOutput(dataTable, element);\n",
              "        const docLink = document.createElement('div');\n",
              "        docLink.innerHTML = docLinkHtml;\n",
              "        element.appendChild(docLink);\n",
              "      }\n",
              "    </script>\n",
              "  </div>\n",
              "\n",
              "\n",
              "    <div id=\"df-c8defb0f-49ea-4133-84cd-66f9224e31e0\">\n",
              "      <button class=\"colab-df-quickchart\" onclick=\"quickchart('df-c8defb0f-49ea-4133-84cd-66f9224e31e0')\"\n",
              "                title=\"Suggest charts\"\n",
              "                style=\"display:none;\">\n",
              "\n",
              "<svg xmlns=\"http://www.w3.org/2000/svg\" height=\"24px\"viewBox=\"0 0 24 24\"\n",
              "     width=\"24px\">\n",
              "    <g>\n",
              "        <path d=\"M19 3H5c-1.1 0-2 .9-2 2v14c0 1.1.9 2 2 2h14c1.1 0 2-.9 2-2V5c0-1.1-.9-2-2-2zM9 17H7v-7h2v7zm4 0h-2V7h2v10zm4 0h-2v-4h2v4z\"/>\n",
              "    </g>\n",
              "</svg>\n",
              "      </button>\n",
              "\n",
              "<style>\n",
              "  .colab-df-quickchart {\n",
              "      --bg-color: #E8F0FE;\n",
              "      --fill-color: #1967D2;\n",
              "      --hover-bg-color: #E2EBFA;\n",
              "      --hover-fill-color: #174EA6;\n",
              "      --disabled-fill-color: #AAA;\n",
              "      --disabled-bg-color: #DDD;\n",
              "  }\n",
              "\n",
              "  [theme=dark] .colab-df-quickchart {\n",
              "      --bg-color: #3B4455;\n",
              "      --fill-color: #D2E3FC;\n",
              "      --hover-bg-color: #434B5C;\n",
              "      --hover-fill-color: #FFFFFF;\n",
              "      --disabled-bg-color: #3B4455;\n",
              "      --disabled-fill-color: #666;\n",
              "  }\n",
              "\n",
              "  .colab-df-quickchart {\n",
              "    background-color: var(--bg-color);\n",
              "    border: none;\n",
              "    border-radius: 50%;\n",
              "    cursor: pointer;\n",
              "    display: none;\n",
              "    fill: var(--fill-color);\n",
              "    height: 32px;\n",
              "    padding: 0;\n",
              "    width: 32px;\n",
              "  }\n",
              "\n",
              "  .colab-df-quickchart:hover {\n",
              "    background-color: var(--hover-bg-color);\n",
              "    box-shadow: 0 1px 2px rgba(60, 64, 67, 0.3), 0 1px 3px 1px rgba(60, 64, 67, 0.15);\n",
              "    fill: var(--button-hover-fill-color);\n",
              "  }\n",
              "\n",
              "  .colab-df-quickchart-complete:disabled,\n",
              "  .colab-df-quickchart-complete:disabled:hover {\n",
              "    background-color: var(--disabled-bg-color);\n",
              "    fill: var(--disabled-fill-color);\n",
              "    box-shadow: none;\n",
              "  }\n",
              "\n",
              "  .colab-df-spinner {\n",
              "    border: 2px solid var(--fill-color);\n",
              "    border-color: transparent;\n",
              "    border-bottom-color: var(--fill-color);\n",
              "    animation:\n",
              "      spin 1s steps(1) infinite;\n",
              "  }\n",
              "\n",
              "  @keyframes spin {\n",
              "    0% {\n",
              "      border-color: transparent;\n",
              "      border-bottom-color: var(--fill-color);\n",
              "      border-left-color: var(--fill-color);\n",
              "    }\n",
              "    20% {\n",
              "      border-color: transparent;\n",
              "      border-left-color: var(--fill-color);\n",
              "      border-top-color: var(--fill-color);\n",
              "    }\n",
              "    30% {\n",
              "      border-color: transparent;\n",
              "      border-left-color: var(--fill-color);\n",
              "      border-top-color: var(--fill-color);\n",
              "      border-right-color: var(--fill-color);\n",
              "    }\n",
              "    40% {\n",
              "      border-color: transparent;\n",
              "      border-right-color: var(--fill-color);\n",
              "      border-top-color: var(--fill-color);\n",
              "    }\n",
              "    60% {\n",
              "      border-color: transparent;\n",
              "      border-right-color: var(--fill-color);\n",
              "    }\n",
              "    80% {\n",
              "      border-color: transparent;\n",
              "      border-right-color: var(--fill-color);\n",
              "      border-bottom-color: var(--fill-color);\n",
              "    }\n",
              "    90% {\n",
              "      border-color: transparent;\n",
              "      border-bottom-color: var(--fill-color);\n",
              "    }\n",
              "  }\n",
              "</style>\n",
              "\n",
              "      <script>\n",
              "        async function quickchart(key) {\n",
              "          const quickchartButtonEl =\n",
              "            document.querySelector('#' + key + ' button');\n",
              "          quickchartButtonEl.disabled = true;  // To prevent multiple clicks.\n",
              "          quickchartButtonEl.classList.add('colab-df-spinner');\n",
              "          try {\n",
              "            const charts = await google.colab.kernel.invokeFunction(\n",
              "                'suggestCharts', [key], {});\n",
              "          } catch (error) {\n",
              "            console.error('Error during call to suggestCharts:', error);\n",
              "          }\n",
              "          quickchartButtonEl.classList.remove('colab-df-spinner');\n",
              "          quickchartButtonEl.classList.add('colab-df-quickchart-complete');\n",
              "        }\n",
              "        (() => {\n",
              "          let quickchartButtonEl =\n",
              "            document.querySelector('#df-c8defb0f-49ea-4133-84cd-66f9224e31e0 button');\n",
              "          quickchartButtonEl.style.display =\n",
              "            google.colab.kernel.accessAllowed ? 'block' : 'none';\n",
              "        })();\n",
              "      </script>\n",
              "    </div>\n",
              "\n",
              "    </div>\n",
              "  </div>\n"
            ],
            "application/vnd.google.colaboratory.intrinsic+json": {
              "type": "dataframe",
              "variable_name": "vendas_com_notas_df",
              "summary": "{\n  \"name\": \"vendas_com_notas_df\",\n  \"rows\": 3602,\n  \"fields\": [\n    {\n      \"column\": \"Name\",\n      \"properties\": {\n        \"dtype\": \"string\",\n        \"num_unique_values\": 3602,\n        \"samples\": [\n          \"The Legend of Alon D'ar\",\n          \"Dynasty Warriors 7\",\n          \"BlazBlue: Chrono Phantasma\"\n        ],\n        \"semantic_type\": \"\",\n        \"description\": \"\"\n      }\n    },\n    {\n      \"column\": \"Genre\",\n      \"properties\": {\n        \"dtype\": \"category\",\n        \"num_unique_values\": 12,\n        \"samples\": [\n          \"Role-Playing\",\n          \"Adventure\",\n          \"Sports\"\n        ],\n        \"semantic_type\": \"\",\n        \"description\": \"\"\n      }\n    },\n    {\n      \"column\": \"Publisher\",\n      \"properties\": {\n        \"dtype\": \"category\",\n        \"num_unique_values\": 259,\n        \"samples\": [\n          \"Crystal Dynamics\",\n          \"Infogrames\",\n          \"SquareSoft\"\n        ],\n        \"semantic_type\": \"\",\n        \"description\": \"\"\n      }\n    },\n    {\n      \"column\": \"NA_Sales\",\n      \"properties\": {\n        \"dtype\": \"number\",\n        \"std\": 1.4998305693163896,\n        \"min\": 0.0,\n        \"max\": 41.49,\n        \"num_unique_values\": 348,\n        \"samples\": [\n          0.49,\n          0.96,\n          0.57\n        ],\n        \"semantic_type\": \"\",\n        \"description\": \"\"\n      }\n    },\n    {\n      \"column\": \"EU_Sales\",\n      \"properties\": {\n        \"dtype\": \"number\",\n        \"std\": 0.8258575142343945,\n        \"min\": 0.0,\n        \"max\": 29.02,\n        \"num_unique_values\": 247,\n        \"samples\": [\n          2.63,\n          9.2,\n          0.28\n        ],\n        \"semantic_type\": \"\",\n        \"description\": \"\"\n      }\n    },\n    {\n      \"column\": \"JP_Sales\",\n      \"properties\": {\n        \"dtype\": \"number\",\n        \"std\": 0.44791735666519544,\n        \"min\": 0.0,\n        \"max\": 6.81,\n        \"num_unique_values\": 191,\n        \"samples\": [\n          0.45,\n          1.36,\n          1.05\n        ],\n        \"semantic_type\": \"\",\n        \"description\": \"\"\n      }\n    },\n    {\n      \"column\": \"Other_Sales\",\n      \"properties\": {\n        \"dtype\": \"number\",\n        \"std\": 0.3133595288391281,\n        \"min\": 0.0,\n        \"max\": 10.57,\n        \"num_unique_values\": 124,\n        \"samples\": [\n          1.13,\n          0.18,\n          0.96\n        ],\n        \"semantic_type\": \"\",\n        \"description\": \"\"\n      }\n    },\n    {\n      \"column\": \"Global_Sales\",\n      \"properties\": {\n        \"dtype\": \"number\",\n        \"std\": 2.6998753827745485,\n        \"min\": 0.01,\n        \"max\": 82.74,\n        \"num_unique_values\": 516,\n        \"samples\": [\n          2.16,\n          0.16,\n          0.75\n        ],\n        \"semantic_type\": \"\",\n        \"description\": \"\"\n      }\n    },\n    {\n      \"column\": \"rating\",\n      \"properties\": {\n        \"dtype\": \"number\",\n        \"std\": 1.1203225816125486,\n        \"min\": 1.5,\n        \"max\": 9.7,\n        \"num_unique_values\": 80,\n        \"samples\": [\n          7.5,\n          7.7,\n          6.9\n        ],\n        \"semantic_type\": \"\",\n        \"description\": \"\"\n      }\n    },\n    {\n      \"column\": \"votes\",\n      \"properties\": {\n        \"dtype\": \"category\",\n        \"num_unique_values\": 1132,\n        \"samples\": [\n          \"145\",\n          \"321\",\n          \"739\"\n        ],\n        \"semantic_type\": \"\",\n        \"description\": \"\"\n      }\n    }\n  ]\n}"
            }
          },
          "metadata": {},
          "execution_count": 16
        }
      ]
    },
    {
      "cell_type": "markdown",
      "source": [
        "Agora para conseguir responder a terceira pergunta: Por que um jogo vende bem?\n",
        "\n",
        "Para isso vou usar duas colunas: vendas_globais e rating\n",
        "\n",
        "Farei uma *análise de correção*. O que é isso?\n",
        "\n",
        "É uma medida estatística que nos diz se duas variáveis se movem juntas e em qual direção.\n",
        "O resultado é um número entre -1 e 1\n",
        "- 1: Correlação positiva perfeita - Ambas as variáveis sobem ou descem juntas;\n",
        "- 0: Nenhuma correção - Movimento independente entre as variáveis;\n",
        "- -1 Correlação negativa perfeita - Movimentos inversamente proporcionais;\n",
        "\n",
        "Para esta análise, se a correlação for próxima de 1, então jogos com notas altas tendem a ter vendas altas;\n",
        "\n",
        "No pandas há uma função chamada `corr()` que calcula a correlação entre as colunas de um dataframe"
      ],
      "metadata": {
        "id": "tQJ7LFdKVl29"
      }
    },
    {
      "cell_type": "code",
      "source": [
        "# Rodando a correlação entre Global_Sales e Rating\n",
        "\n",
        "correlacao_global_sales_x_rating = vendas_com_notas_df['rating'].corr(vendas_com_notas_df['Global_Sales'])\n",
        "print(f\"A correlação entre rating e Global_Sales e: {correlacao_global_sales_x_rating}\")"
      ],
      "metadata": {
        "colab": {
          "base_uri": "https://localhost:8080/"
        },
        "id": "yNGJURFbUBS7",
        "outputId": "2493978e-787a-4c87-f24e-7d7df2d60895"
      },
      "execution_count": null,
      "outputs": [
        {
          "output_type": "stream",
          "name": "stdout",
          "text": [
            "A correlação entre rating e Global_Sales e: 0.19318052387751386\n"
          ]
        },
        {
          "output_type": "execute_result",
          "data": {
            "text/plain": [
              "dtype('O')"
            ]
          },
          "metadata": {},
          "execution_count": 38
        }
      ]
    },
    {
      "cell_type": "markdown",
      "source": [
        "Agora podemos verificar o quanto o sucesso de vendas fora representado pela votação no jogo, para isso faremos a correlação entre 'Global_Sales' e 'votes'. Entretanto a coluna votes está com o formato de dados em `object` (string) então precisamos converter para tipo numérico.\n",
        "\n",
        "Para isso vamos passar por 2 passos;\n",
        "1 - Converter os erroes em NaN, para isso vamos usar a função do pandas to_numeric(), utilizando o parâmetro `errors=coerce'"
      ],
      "metadata": {
        "id": "2jY27vOqZLxG"
      }
    },
    {
      "cell_type": "code",
      "source": [
        "vendas_com_notas_df['votes'] = pd.to_numeric(vendas_com_notas_df['votes'], errors='coerce')\n",
        "\n",
        "# verificando o tipo de dados\n",
        "print(vendas_com_notas_df['votes'].dtypes)"
      ],
      "metadata": {
        "colab": {
          "base_uri": "https://localhost:8080/"
        },
        "id": "sYyhHufdZLJu",
        "outputId": "ea0509fb-188e-4507-ddaa-0b6f1128f390"
      },
      "execution_count": null,
      "outputs": [
        {
          "output_type": "stream",
          "name": "stdout",
          "text": [
            "float64\n"
          ]
        }
      ]
    },
    {
      "cell_type": "markdown",
      "source": [
        "Agora, sim podemos rodar a correlação"
      ],
      "metadata": {
        "id": "IsKYWVGPaFET"
      }
    },
    {
      "cell_type": "code",
      "source": [
        "correlacao_votos = vendas_com_notas_df['votes'].corr(vendas_com_notas_df['Global_Sales'])\n",
        "print(f\"A correlação entre votos e Global_Sales é: {correlacao_votos}\")"
      ],
      "metadata": {
        "colab": {
          "base_uri": "https://localhost:8080/"
        },
        "id": "ZyUKmdZ5aeRm",
        "outputId": "d7120072-8bda-45a9-8fef-8e89cb62a265"
      },
      "execution_count": null,
      "outputs": [
        {
          "output_type": "stream",
          "name": "stdout",
          "text": [
            "A correlação entre votos e Global_Sales é: 0.27151468262644346\n"
          ]
        }
      ]
    }
  ]
}